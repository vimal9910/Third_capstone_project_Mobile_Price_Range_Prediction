{
  "nbformat": 4,
  "nbformat_minor": 0,
  "metadata": {
    "colab": {
      "name": "Mobile Price Range Prediction.ipynb",
      "provenance": [],
      "authorship_tag": "ABX9TyP09GSm2Q7lufxrg5TihsBq",
      "include_colab_link": true
    },
    "kernelspec": {
      "name": "python3",
      "display_name": "Python 3"
    },
    "language_info": {
      "name": "python"
    }
  },
  "cells": [
    {
      "cell_type": "markdown",
      "metadata": {
        "id": "view-in-github",
        "colab_type": "text"
      },
      "source": [
        "<a href=\"https://colab.research.google.com/github/vimal9910/Third_capstone_project_Mobile_Price_Range_Prediction/blob/main/Mobile_Price_Range_Prediction.ipynb\" target=\"_parent\"><img src=\"https://colab.research.google.com/assets/colab-badge.svg\" alt=\"Open In Colab\"/></a>"
      ]
    },
    {
      "cell_type": "markdown",
      "source": [
        "# **Problem Statement:**\n",
        "**In the competitive mobile phone market companies want to understand sales data of mobile phones and factors which drive the prices. The objective is to find out some relation between features of a mobile phone(eg:- RAM, Internal Memory, etc) and its selling price. In this problem, we do not have to predict the actual price but a price range indicating how high the price is.**"
      ],
      "metadata": {
        "id": "RtGEWo-B2Kuf"
      }
    },
    {
      "cell_type": "markdown",
      "source": [
        "# **Data Description -**\n",
        "\n",
        "*  **Battery_power** - Total energy a battery can store in one time measured in mAh\n",
        "*   **Blue** - Has bluetooth or not\n",
        "\n",
        "\n",
        "*   **Clock_speed** - speed at which microprocessor executes instructions\n",
        "\n",
        "*   **Dual_sim** - Has dual sim support or not\n",
        "\n",
        "*   **Fc** - Front Camera mega pixels\n",
        "\n",
        "*   **Four_g** - Has 4G or not\n",
        "\n",
        "*   **Int_memory** - Internal Memory in Gigabytes\n",
        "\n",
        "*   **M_dep** - Mobile Depth in cm\n",
        "*   **Mobile_wt** - Weight of mobile phone\n",
        "\n",
        "\n",
        "*   **N_cores** - Number of cores of processor\n",
        "\n",
        "\n",
        "*   **Pc** - Primary Camera mega pixels\n",
        "\n",
        "\n",
        "*  **Px_height** - Pixel Resolution Height\n",
        "\n",
        "\n",
        "*   **Px_width** - Pixel Resolution Width\n",
        "\n",
        "\n",
        "*   **Sc_h** - Screen Height of mobile in cm\n",
        "\n",
        "*   **Sc_w** - Screen Width of mobile in cm\n",
        "*   **Talk_time** - longest time that a single battery charge will last when you are\n",
        "\n",
        "\n",
        "*   **Three_g** - Has 3G or not\n",
        "\n",
        "*   **Touch_screen** - Has touch screen or not\n",
        "\n",
        "*   **Wifi** - Has wifi or not\n",
        "*  **Price_range** - This is the target variable with value of\n",
        "\n",
        "\n",
        "*  0(low cost),\n",
        "\n",
        "*   1(medium cost),\n",
        "*   2(high cost) and\n",
        "\n",
        "\n",
        "*   3(very high cost).\n",
        "\n",
        "*   Thus our target variable has 4 categories so basically it is a Multiclass classification problem."
      ],
      "metadata": {
        "id": "mXS-_82Y2ZHn"
      }
    },
    {
      "cell_type": "code",
      "source": [
        "# importing important libraries\n",
        "import pandas as pd\n",
        "import numpy as np\n",
        "import matplotlib.pyplot as plt\n",
        "import seaborn as sns\n",
        "%matplotlib inline\n",
        "\n",
        "# setting max display column limit to 30\n",
        "pd.set_option(\"display.max_columns\", 30)\n",
        "\n",
        "#set style\n",
        "# plt.style.use('seaborn')\n",
        "sns.set()\n",
        "\n",
        "\n",
        "# setting font weight,label weight,title weight to bold and setting title size,label size,fontsize.\n",
        "plt.rcParams[\"font.weight\"] = \"bold\"\n",
        "plt.rcParams[\"axes.labelweight\"] = \"bold\"\n",
        "plt.rcParams[\"axes.titlesize\"] = 25\n",
        "plt.rcParams[\"axes.titleweight\"] = 'bold'\n",
        "plt.rcParams['xtick.labelsize']=15\n",
        "plt.rcParams['ytick.labelsize']=15\n",
        "plt.rcParams[\"axes.labelsize\"] = 20\n",
        "plt.rcParams[\"legend.fontsize\"] = 15\n",
        "plt.rcParams[\"legend.title_fontsize\"] = 15\n",
        "\n",
        "import warnings\n",
        "warnings.filterwarnings('ignore')"
      ],
      "metadata": {
        "id": "5uAYgvpV5QW7"
      },
      "execution_count": 1,
      "outputs": []
    }
  ]
}